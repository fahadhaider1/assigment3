{
 "cells": [
  {
   "cell_type": "code",
   "execution_count": 1,
   "id": "8fbdae1a-c75f-4ffa-8051-db1be46b3dcf",
   "metadata": {},
   "outputs": [
    {
     "name": "stdout",
     "output_type": "stream",
     "text": [
      "0\n",
      "1\n",
      "2\n",
      "3\n",
      "4\n",
      "5\n",
      "6\n",
      "7\n",
      "8\n",
      "9\n",
      "10\n",
      "11\n",
      "12\n",
      "13\n",
      "14\n",
      "15\n",
      "16\n",
      "17\n",
      "18\n",
      "19\n"
     ]
    }
   ],
   "source": [
    "#Ques.1\n",
    "#Ans\n",
    "'''\n",
    "                                for loop\n",
    "A for loop is a type of loop that runs for a preset number of times.\n",
    "It also has the ability to iterate over the items of any sequence, \n",
    "such as a list or a string.'''\n",
    "\n",
    "for i in range(10):  # collection of numbers from 0 to 9\n",
    "    print(i)\n",
    "    \n",
    "'''                            while loop\n",
    "With the while loop, we can execute a block of code as long as a condition is true.'''\n",
    "\n",
    "n = 10\n",
    "while n < 20: # while n is less than 10,\n",
    "    print(n) # print out the value of n \n",
    "    n += 1"
   ]
  },
  {
   "cell_type": "code",
   "execution_count": 2,
   "id": "e60070ca-e542-4f8a-a813-de3a0cde601d",
   "metadata": {},
   "outputs": [
    {
     "name": "stdout",
     "output_type": "stream",
     "text": [
      "sum of the 10 natural number using for loop 55\n"
     ]
    }
   ],
   "source": [
    "#Ques.2\n",
    "#Ans\n",
    "#program to print the sum and product of 10 natural number using for and while loop\n",
    "sum=0\n",
    "for i in range(1,11):\n",
    "    sum= sum+i\n",
    "print(\"sum of the 10 natural number using for loop\",sum)"
   ]
  },
  {
   "cell_type": "code",
   "execution_count": 3,
   "id": "6066d58d-29e4-484a-9408-04c43939e768",
   "metadata": {},
   "outputs": [
    {
     "name": "stdout",
     "output_type": "stream",
     "text": [
      "product of 10 natural number using for loop is 3628800\n"
     ]
    }
   ],
   "source": [
    "#product of for loop\n",
    "n=1\n",
    "for i in range(1,11):\n",
    "    n=n*i\n",
    "print(\"product of 10 natural number using for loop is\",n)\n"
   ]
  },
  {
   "cell_type": "code",
   "execution_count": 4,
   "id": "f85c8117-3822-47e6-b019-cc84b544b737",
   "metadata": {},
   "outputs": [
    {
     "name": "stdout",
     "output_type": "stream",
     "text": [
      "sum of the 10 natural number using while loop 55\n"
     ]
    }
   ],
   "source": [
    "#sum of while loop\n",
    "n=0\n",
    "st=1\n",
    "while st<=10:\n",
    "    n=n+st\n",
    "    st=st+1\n",
    "print(\"sum of the 10 natural number using while loop\",n)"
   ]
  },
  {
   "cell_type": "code",
   "execution_count": 5,
   "id": "d3220b5b-3194-4d83-8f6e-875f0e86642f",
   "metadata": {},
   "outputs": [
    {
     "name": "stdout",
     "output_type": "stream",
     "text": [
      "product of 10 natural number using while loop 3628800\n"
     ]
    }
   ],
   "source": [
    "#product of while loop\n",
    "n=1\n",
    "result=1\n",
    "while n<=10:\n",
    "    result=result*n\n",
    "    n=n+1\n",
    "print(\"product of 10 natural number using while loop\",result)"
   ]
  },
  {
   "cell_type": "code",
   "execution_count": 1,
   "id": "0e72100b-9064-4816-9ac3-992f0cede099",
   "metadata": {},
   "outputs": [
    {
     "name": "stdin",
     "output_type": "stream",
     "text": [
      "Enter the no.of units consumed in last month : 2000\n"
     ]
    },
    {
     "name": "stdout",
     "output_type": "stream",
     "text": [
      "the total electricity bill is  36050.0\n"
     ]
    }
   ],
   "source": [
    "#Ques .3\n",
    "#Ans\n",
    "unit=int(input(\"Enter the no.of units consumed in last month :\"))\n",
    "price = 0\n",
    "if unit<= 100:\n",
    "    price =(4.5 * unit)\n",
    "elif unit>100 and unit<=200:\n",
    "    price =4.5*100+6*(unit-100)\n",
    "elif unit>200 and unit<=300:\n",
    "    price=4.5*100+6*100+10*(unit-200)\n",
    "else:\n",
    "    price=4.5*100+6*100+10*100+20*(unit-300)\n",
    "print(\"the total electricity bill is \",price)"
   ]
  },
  {
   "cell_type": "code",
   "execution_count": 2,
   "id": "9eab2fc0-7ba2-4404-9e6c-3a34179169ed",
   "metadata": {},
   "outputs": [
    {
     "name": "stdout",
     "output_type": "stream",
     "text": [
      "[2, 4, 5, 6, 8, 10, 12, 14, 15, 16, 18, 20, 22, 24, 25, 26, 28, 30, 32, 34, 35, 36, 38, 40, 42, 44, 45, 46, 48, 50, 52, 54, 55, 56, 58, 60, 62, 64, 65, 66, 68, 70, 72, 74, 75, 76, 78, 80, 82, 84, 85, 86, 88, 90, 92, 94, 95, 96, 98, 100]\n"
     ]
    }
   ],
   "source": [
    "#Ques.4\n",
    "#Ans\n",
    "#for loop\n",
    "l=[]\n",
    "a=list(range(1,101))\n",
    "for i in a:\n",
    "    cube=i**3\n",
    "    if cube%4==0 or cube%5==0:\n",
    "        l.append(i)\n",
    "print(l)"
   ]
  },
  {
   "cell_type": "code",
   "execution_count": null,
   "id": "04cfdfa9-aad4-4023-81ac-a683c14c4aa0",
   "metadata": {},
   "outputs": [],
   "source": [
    "#while loop\n",
    "l1=[]\n",
    "i=1\n",
    "cube=0\n",
    "while i<101:\n",
    "    cube=i**3\n",
    "    if cube%4==0 or cube%5==0:\n",
    "        l1.append(i)\n",
    "        i+=1\n",
    "print(l1)"
   ]
  },
  {
   "cell_type": "code",
   "execution_count": null,
   "id": "4bc7e176-bc58-49e7-930c-918cc1202b9a",
   "metadata": {},
   "outputs": [],
   "source": []
  }
 ],
 "metadata": {
  "kernelspec": {
   "display_name": "Python 3 (ipykernel)",
   "language": "python",
   "name": "python3"
  },
  "language_info": {
   "codemirror_mode": {
    "name": "ipython",
    "version": 3
   },
   "file_extension": ".py",
   "mimetype": "text/x-python",
   "name": "python",
   "nbconvert_exporter": "python",
   "pygments_lexer": "ipython3",
   "version": "3.10.8"
  }
 },
 "nbformat": 4,
 "nbformat_minor": 5
}
